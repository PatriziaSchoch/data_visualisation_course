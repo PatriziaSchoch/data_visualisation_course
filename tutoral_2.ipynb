{
 "cells": [
  {
   "cell_type": "markdown",
   "id": "68afeb34-64a1-43a1-89c5-90ad0ba06837",
   "metadata": {
    "tags": []
   },
   "source": [
    "# Lerne noch mehr coole Plots kennen! 🌟\n",
    "##### In diesem Tutorial lernst du wie man einen Scatter-Plot und ein Histogramm erstellt. Du lernst auch weitere nützlicht plot Methoden für Line-Plots die du in dem letzten Tutorial kennen gelernt hast."
   ]
  },
  {
   "cell_type": "markdown",
   "id": "8b270e55-747c-4548-8e59-284d11a0f188",
   "metadata": {},
   "source": [
    "#### 1 Scatter Plots\n",
    "\n",
    "Wir beginnen wieder damit *matplotlib*, die Python Bibliothek für Plots, und *pandas* zu importieren. Das geht mit:  \n",
    "```python\n",
    "import matplotlib.pyplot as plt\n",
    "import pandas as pd\n",
    "```\n",
    "\n",
    "**Aufgabe 1:** Importiere *matplotlib* und *pandas*. Du kannst einfach die Zeile von oben in den nächsten Code-Block kopieren und ihn mit **Shift** und **Enter** ausführen."
   ]
  },
  {
   "cell_type": "code",
   "execution_count": null,
   "id": "7968d6e5-5db4-4b58-834f-2e84653b41c5",
   "metadata": {},
   "outputs": [],
   "source": []
  },
  {
   "cell_type": "markdown",
   "id": "5a94be6a-d752-4d0d-be52-c7823819eff1",
   "metadata": {},
   "source": [
    "Im prinzip hast du Scatter-Plots schon letztes mal kennengelernt. Du hast nämlich dein Alter und deine Größe in den Plot mit `plt.scatter(alter, größe)` eingefügt. Scatter Plots werden immer dann verwendet wenn man viele verschiedene Paare von X und Y plotten möchte. Im vorherigen Kapitel hatten wir auf der X-Achse das Alter, das war eine geordnete Zeitreihe von 0 Jahren bis 18 Jahren. Dagegen haben wir die Körpergröße geplottet. Wir konnten somit jedem Alter eine Größe zuordnen. In diesem Fall macht es Sinn eine Linie durch die Werte zu ziehen und das ganze als Linien Plot darzustellen. \n",
    "\n",
    "**Aufgabe 2:** Führe noch mals den unteren Codeblock aus. Es sollte ein Linienplot erscheinen, genau so wie im letzten Kapitel. Ändere dann die beiden Funktionen `plt.plot()` in `plt.scatter()` Funktionen um. Was ändert sich?"
   ]
  },
  {
   "cell_type": "code",
   "execution_count": null,
   "id": "3c9cf702-690d-4876-8923-4d1efc7154c0",
   "metadata": {},
   "outputs": [],
   "source": [
    "größe_mädchen = [51.32, 75.09, 86.73, 95.35, 103.51, 110.82, 117.59, 123.65, 129.49, 135.28, 141.18, 147.65, 154.31, 159.53, 162.74, 164.48, 165.39, 165.54, 165.77]\n",
    "größe_jungs = [52.58, 76.63, 88.21, 97.14, 104.56, 111.23, 117.78, 124.51, 130.79, 136.35, 141.55, 146.68, 152.22, 159.13, 166.93, 173.12, 176.66, 178.24,179.04]\n",
    "alter = [0, 1, 2, 3, 4, 5, 6, 7, 8, 9, 10, 11, 12, 13, 14, 15, 16, 17, 18]\n",
    "\n",
    "plt.plot(alter, größe_mädchen, color='coral', label='Mädchen')\n",
    "plt.plot(alter, größe_jungs, color='teal', label='Jungen')\n",
    "plt.title('Körpergröße in cm in Abhängigkeit vom Alter bei Mädchen und Jungen')\n",
    "plt.xlabel('Alter in Jahren')\n",
    "plt.ylabel('Körpergröße in cm')\n",
    "plt.legend()"
   ]
  },
  {
   "cell_type": "markdown",
   "id": "7be22aa7-7103-4ee1-86b5-a3d14315c533",
   "metadata": {},
   "source": [
    "In obrigem Beispiel macht es mehr Sinn die Werte als Linien-Plot darzustellen, da man so viel besser erkennen kann, wie sich die Körpergröße über die Zeit ändert.\n",
    "\n",
    "Als nächstes lernen wir Beispiele kennen in denen ein Scatter-Plot sinnvoller ist als ein Linien-Plot. Wir wollen untersuchen wie die Körpergröße der Kinder von der Größe der Eltern abhängt. Dafür verwenden wir den *Galton height data* Datensatz, der im originalen hier zu finden ist: *Francis Galton, 2017, \"Galton height data\", https://doi.org/10.7910/DVN/T0HSJ1, Harvard Dataverse*. \n",
    "\n",
    "Wir verwenden wieder *pandas* um die Daten einzulesen. Der Datensatz den wir verwenden ist in dem Ordner *data* und hat hat den Namen *größen_eltern_mädchen.txt* und *größen_eltern_jungen.txt*. Das *.txt* sagt uns dass es sich hier um eine Text Datei handelt. \n",
    "\n",
    "**Aufgabe 3:** Führe den Folgenden Codeblock aus um die Datensätze einzulesen."
   ]
  },
  {
   "cell_type": "code",
   "execution_count": null,
   "id": "e9244e15-cf7a-41c2-995a-0442e13f3ab1",
   "metadata": {},
   "outputs": [],
   "source": [
    "daten_mädchen = pd.read_csv('data/größen_eltern_mädchen.txt')\n",
    "daten_jungen = pd.read_csv('data/größen_eltern_jungen.txt')"
   ]
  },
  {
   "cell_type": "markdown",
   "id": "c736b8c0-e0d7-4ebd-ab96-f9b48d551a2f",
   "metadata": {},
   "source": [
    "Nachdem man einen neuen, erstmal unbekannten, Datensatz eingelesn hat, ist es sinnvoll anzuschauen wie der Datensatz strukturiert ist. Dafür müssen wir den Datensatz *'printen'* also uns quasi ausdrucken, oder eher aufschreiben lassen. \n",
    "\n",
    "**Aufgabe 4:** Gib in den nächsten Codeblock `print(daten_mädchen)` ein. Was für Variablen gibt es in dem Datensatz? Schau dir auf die selbe weise den Datensatz *daten_jungen* an."
   ]
  },
  {
   "cell_type": "code",
   "execution_count": null,
   "id": "8bbcf3f4-78a7-45de-bcf2-0bbb0df9990a",
   "metadata": {},
   "outputs": [],
   "source": []
  },
  {
   "cell_type": "markdown",
   "id": "92475648-82cb-4353-a8a0-76bf1369a9bb",
   "metadata": {},
   "source": [
    "Jetzt wissen wir wie der Datensatz ungefähr aufgebaut ist. Um herauszufinden wie die Körpergröße von Eltern mit der Körpergröße der Kinder zusammenhängt, müssen wir die Größe der Eltern gegen die Größe der Kinder plotten. Auf die einzelnen Variablen in unserem Datensatz kann man mit `datensatz.variable` zugreifen. Wenn wir also die Größe der Kinder wollen, schreiben wir `daten_mädchen.kind`. \n",
    "\n",
    "**Aufgabe 5:** Plotte die Größe der Mädchen gegen die Größe der Mütter mit einem scatterplot. Schreibe dafür `plt.scatter(daten_mädchen.kind, daten_mädchen.mutter)` in den nächsten Codeblock."
   ]
  },
  {
   "cell_type": "code",
   "execution_count": null,
   "id": "b450fba7-0ea5-42d1-b358-8b538a5945ed",
   "metadata": {},
   "outputs": [],
   "source": []
  },
  {
   "cell_type": "markdown",
   "id": "eb995ce6-14c6-43ce-a39d-c5e1f1a9073c",
   "metadata": {},
   "source": [
    "Und warum kann man das nicht als Linienplot machen? Probier es einfach mal aus ;)\n",
    "\n",
    "**Aufgabe 6:** Plotte das ganze in dem nächsten Codeblock as Linienplot anstatt als scatterplot indem du statt `plt.scatter()` einfach `plt.plot()` schreibst."
   ]
  },
  {
   "cell_type": "code",
   "execution_count": null,
   "id": "eb61e46c-f5cb-4f22-959b-fa71b5e5256d",
   "metadata": {},
   "outputs": [],
   "source": []
  },
  {
   "cell_type": "markdown",
   "id": "f95247f2-2e88-4018-b625-664ca07b8e29",
   "metadata": {},
   "source": [
    "Sieht ein wenig aus wie eine Zeichnung eines Kindergartenkindes, oder?"
   ]
  },
  {
   "cell_type": "markdown",
   "id": "58d97e58-dbc5-40ab-8fac-8a41c25620cc",
   "metadata": {},
   "source": [
    "#### 2. Schönere Scatterplots\n",
    "\n",
    "Dein scatterplot ist bis jetzt noch sehr einfach. Es fehlen wieder die Achsenbeschriftungen und der Titel, auch eine Legende wäre gut. Das geht genau gleich wie beim Linienplot. \n",
    "\n",
    "**Aufgabe 7:** Füge deinem scatterplot die X-Achsenbeschriftunge `plt.xlabel('Größe Mädchen [cm]')` und die Y-Achsenbeschriftung `plt.ylabel('Größe Mutter [cm]')` hinzu. Es ist wichtig die Einheit (hier cm) hinzuschreiben, damit andere sofort sehen was die Werte aussagen. Fügen auch einen sinnvollen Titel mit `plt.title()` hinzu."
   ]
  },
  {
   "cell_type": "code",
   "execution_count": null,
   "id": "eb54303b-2a48-4212-b4ca-db6b62ddb2b5",
   "metadata": {},
   "outputs": [],
   "source": []
  },
  {
   "cell_type": "markdown",
   "id": "aa7720f5-4074-44b7-bca3-930ff669272b",
   "metadata": {},
   "source": [
    "Wir haben ja auch noch die Größen der Väter. Plotten wir diese doch einfach dazu.\n",
    "\n",
    "**Aufgabe 8:** Kopiere dein code von oben und füge ihn in den unten stehenden Codeblock ein. Füge den scatterplot für die Väter hinzu indem du `plt.scatter(daten_mädchen.kind, daten_mädchen.vater)` schreibst."
   ]
  },
  {
   "cell_type": "code",
   "execution_count": null,
   "id": "1b2681e7-18eb-4bff-a0ed-da1ebea2a1c5",
   "metadata": {},
   "outputs": [],
   "source": []
  },
  {
   "cell_type": "markdown",
   "id": "2aab07ac-4f61-403f-8716-5dcf6bbef844",
   "metadata": {},
   "source": [
    "Jetzt haben wir sowohl die Größe der Mutter in gegen die Größe der Töchter als auch die Größe der Väter gegen die Größe der Töchter geplottet. Wir sollten die Y-Achsenbeschriftung abändern aus 'Größe Eltern [cm]' und eine Legende hinzufügen damit klar wird welche Punkte sich auf die Größe des Vaters und welche sich auf die Größe der Mutter beziehen. \n",
    "\n",
    "**Aufgabe 9:** Kopiere wieder den Codeblock von oben und füge ihn unten ein. Änder die Y-Achsenbeschriftung und füge die Legende hinzu."
   ]
  },
  {
   "cell_type": "code",
   "execution_count": null,
   "id": "a4ceea88-d435-4c43-ab70-36c8bc0a825a",
   "metadata": {},
   "outputs": [],
   "source": []
  },
  {
   "cell_type": "markdown",
   "id": "9c2e6403-a39b-4d5b-9289-265de1dcf6f5",
   "metadata": {},
   "source": [
    "Die Punkte überschneiden sich jetzt teilweiße und verdecken somit Punkte die weiter 'unten' liegen. Man kann angeben wie 'durchsichtig' die Punkte sein sollen in dem man den 'Alpha-Wert' ändert mit `alpha=`. Der Alpha-Wert kann alles zwischen 0 und 1 sein. Bei 0 sieht man den Punkt gar nicht mehr, bei 1 ist der Punkt komplett undurchsichtig. \n",
    "\n",
    "**Aufgabe 10:** Kopiere wieder den Codeblock von oben und füge ihn untern ein. Füge bei den beiden `plot()` Funktionen als zusätzliches Argument `alpha=0.5` ein und führe den Code aus."
   ]
  },
  {
   "cell_type": "code",
   "execution_count": null,
   "id": "039364f2-37ea-47bb-adb9-60d8b8960699",
   "metadata": {},
   "outputs": [],
   "source": []
  },
  {
   "cell_type": "markdown",
   "id": "e0a66ca8-1889-4df0-addc-387c5b61600a",
   "metadata": {},
   "source": [
    "Wie beim Linien-Plot kannst du auch beim Scatter-Plot das Design ändern. Mit `color='...'` änderst du die Farbe. Mit `marker='...'` den Stil des Markers, du kannst zum Beispiel 's' oder 'd' ausprobieren. Mit `s=` änderst du die Größe, probiere doch mal 100 oder 20.\n",
    "\n",
    "**Aufgabe 11:** Kopiere wieder den Codeblock von oben und füge ihn unten ein. Änder die Farben, den Stil der Marker und die Größe der Marker."
   ]
  },
  {
   "cell_type": "code",
   "execution_count": null,
   "id": "2add1985-c22f-4e03-a98d-75e8e4c032cf",
   "metadata": {},
   "outputs": [],
   "source": []
  },
  {
   "cell_type": "markdown",
   "id": "2694a844-d76f-48c8-8c58-3f59956d3cbd",
   "metadata": {},
   "source": [
    "##### Glückwunsch! 🎉\n",
    "Du kannst jetzt Scatter-Plots machen und sie nach deinen Wünschen abändern :)\n",
    "\n",
    "#### Histogramme 📊\n",
    "Manchmal iteressiert man sich gar nicht dafür wie ein Wert mit einem anderen zusammenhängt, sonder viel eher wie ein Wert verteilt ist. Die Verteilung gibt an wie häufig jeder Wert vorkommt. Wir wollen die Verteilung der Körpergrößen von Mädchen anschauen und dafür plotten wir ein Histogramm. Das geht mit `plt.hist()`.\n",
    "\n",
    "**Aufgabe 12:** Schau dir die Verteilung der Körpergrößen der Mädchen an indem du in den nächsten Codeblock `plt.hist(daten_mädchen.kind)` schreibst."
   ]
  },
  {
   "cell_type": "code",
   "execution_count": null,
   "id": "7a509c27-3c24-44d9-84d6-c534f5051c76",
   "metadata": {},
   "outputs": [],
   "source": []
  }
 ],
 "metadata": {
  "kernelspec": {
   "display_name": "Python 3 (ipykernel)",
   "language": "python",
   "name": "python3"
  },
  "language_info": {
   "codemirror_mode": {
    "name": "ipython",
    "version": 3
   },
   "file_extension": ".py",
   "mimetype": "text/x-python",
   "name": "python",
   "nbconvert_exporter": "python",
   "pygments_lexer": "ipython3",
   "version": "3.10.8"
  }
 },
 "nbformat": 4,
 "nbformat_minor": 5
}
