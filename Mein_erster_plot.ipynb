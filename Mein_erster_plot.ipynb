{
 "cells": [
  {
   "cell_type": "markdown",
   "metadata": {},
   "source": [
    "# Hey! Schön, dass du da bist :)\n",
    "### Zusammen lernen wir die Grundlagen der Datenvisualisierung."
   ]
  },
  {
   "cell_type": "markdown",
   "metadata": {
    "tags": []
   },
   "source": [
    "Das hier ist ein **Jupyter Notebook**. Es ist quasi ein Notizbuch indem man gleichzeitig mit Python programmiern kann. Du kannst eine Codezelle ausführen indem du **Shift** (⇧) und **Enter** drückst."
   ]
  },
  {
   "cell_type": "markdown",
   "metadata": {},
   "source": [
    "#### 1. Importieren von Bibliotheken 📒"
   ]
  },
  {
   "cell_type": "markdown",
   "metadata": {},
   "source": [
    "Um gemessene Daten besser interpretieren und analysieren zu können werden Datensätze häufig als Bild darzustellen, dh. die Daten werden *geplottet*. \n",
    "\n",
    "Für das *plotten* verwenden wir eine Bibliothek namens *matplotlib*. Matplotlib enthält viele vorgefertigte Funktionen die uns das plotten einfacher machen. Um eine Bibliothek nutzen zu können, musst du die Bibliothek *importieren*.  Danach kannst du auf die verschiedenen Funktionen und Methoden aus der Bibliothek zugreifen. Das ist sehr praktisch da wir nicht alle Funktionen selbst schreiben müssen :)\n",
    "\n",
    "Im unten stehenden *Codeblock* wird die Bibliothek *matplotlib* importiert. Ihr wird der shortcut *plt* zugewiesen. Führe den Codeblock aus (mit **Shift** und **Enter**). Bis jetzt wird noch nichts spektakuläres passieren, aber es sollte eine [1] neben dem Codeblock erscheinen."
   ]
  },
  {
   "cell_type": "code",
   "execution_count": null,
   "metadata": {},
   "outputs": [],
   "source": [
    "import matplotlib.pyplot as plt"
   ]
  },
  {
   "cell_type": "markdown",
   "metadata": {},
   "source": [
    "Jetzt hast du `matplotlib.pyplot` importiert. Wenn du eine Funktion von `matplotlib.pyplot` verwenden willst, startest du mit `plt.` und hängst dahinter den Funktionsnamen an.\n",
    "\n",
    "#### 2. Generiern von Daten 🎲\n",
    "\n",
    "Da wir noch keine Daten aufgenommen haben, müssen wir hier welche erfinden, bzw generieren. Wir nenne unseren ersten Datensatz `test_daten` und ordnen ihm eine Liste von ausgedachten Werten zu. \n",
    "In Python beginnt und endet eine Liste immer mit einer eckigen Klammer `[ ... ]`, die Werte (also die Zahlen) in der Liste werden durch Komatas getrennt. Das kann dann zum Beispiel so aussehen:"
   ]
  },
  {
   "cell_type": "code",
   "execution_count": null,
   "metadata": {},
   "outputs": [],
   "source": [
    "test_daten = [3,1,7,3,2,5]"
   ]
  },
  {
   "cell_type": "markdown",
   "metadata": {},
   "source": [
    "#### 3. Daten plotten 📈\n",
    "Mit matplotlib kann man die Daten ganz einfach graphisch darstellen. Dazu verwendet man die Funktion `plot()`. In die Klammern schreibt man was man plotten will, also in unserem Fall `test_daten`. Das was in den Klammern einer Funktion steht bezeichnet man als *Argument*. Da die `plot()` Funktion zu matplotlib gehört, müssen wir davor `plt.` schreiben:"
   ]
  },
  {
   "cell_type": "code",
   "execution_count": null,
   "metadata": {},
   "outputs": [],
   "source": [
    "plt.plot(test_daten)"
   ]
  },
  {
   "cell_type": "markdown",
   "metadata": {},
   "source": [
    "Wenn alles geklappt hat solltest du jetzt deinen ersten Plot sehen. Um einen einfachen Plot zu machen brauchst du nur 3 Zeilen. Hier noch mal zusammengefasst:\n",
    "\n",
    "```python\n",
    "import matplotlib.pyplot as plt\n",
    "data = [1,2,3,4,5,6]\n",
    "plt.plot(data)\n",
    "```\n",
    "\n",
    "Allerdings fehlt deinem Plot noch einiges, \n",
    "zum Beispiel eine Achsenbeschriftung und ein Titel. Im nächsten Schritt fügen wir die nötigen Details hinzu die ein guter Plot braucht."
   ]
  },
  {
   "cell_type": "markdown",
   "metadata": {},
   "source": [
    "#### 4. Details hinzufügen 🔎\n",
    "\n",
    "Um die Achsenbeschriftung und den Titel hinzuzufügen gibt es wieder bestimmt Funktionen von matplotlib die wir verwenden können. Die Funktion die den Titel ändert heißt `title`, also Titel auf englisch. Als Argument nimmt sie einfach den gewünschten Titel in Anführungszeichen. Für die x- und y-Achsenbeschriftung heißt die Funktion `xlabel` und `ylabel`. \n",
    "\n",
    "**Aufgabe:** Führe den unten stehenden Codeblock aus. Veränder dann den Titel und die x- und y-Achsenbeschriftung (du kannst rein schreiben was du möchtest) und führe den Codeblock noch mal aus."
   ]
  },
  {
   "cell_type": "code",
   "execution_count": null,
   "metadata": {},
   "outputs": [],
   "source": [
    "plt.plot(test_daten)\n",
    "plt.title('Mein Titel')\n",
    "plt.xlabel('x')\n",
    "plt.ylabel('Ausgedachte Zahlen')"
   ]
  },
  {
   "cell_type": "markdown",
   "metadata": {},
   "source": [
    "#### 5. Eine eigene Funktion schreiben 💻 (optional)\n",
    "\n",
    "Der Code für den Plot sieht bis jetzt so aus:\n",
    "```python\n",
    "test_daten = [3,1,7,3,2,5]\n",
    "plt.plot(test_daten)\n",
    "plt.title('Mein Titel')\n",
    "plt.xlabel('x')\n",
    "plt.ylabel('Ausgedachte Zahlen')\n",
    "```\n",
    "\n",
    "Du kannst den Code als Funktion schreiben und die Funktion später wieder verwenden. So kannst du in Zukunft ganz einfach einen Plot machen, ohne viel schreiben zu müssen. Funktionen fangen immer mit `def` an, danach kommt der *Funktionsname* mit den *Argumenten* und schließlich ein Doppelpunkt. Das sieht dann so aus `def meine_funktion(argument1, argument2):`. In die nächsten Zeilen kommt dann was die Funktion machen soll. Eine Plot-Funktion kann zum Beispiel so aussehen:"
   ]
  },
  {
   "cell_type": "code",
   "execution_count": null,
   "metadata": {},
   "outputs": [],
   "source": [
    "def plotte_daten(daten):\n",
    "    plt.plot(daten)\n",
    "    plt.title('Meine Daten')\n",
    "    plt.xlabel('x-Achse')\n",
    "    plt.ylabel('y-Werte')"
   ]
  },
  {
   "cell_type": "markdown",
   "metadata": {},
   "source": [
    "Jetzt kannst du diese Funktion verwenden um deine Daten, die du vorher `test_daten` genannt hast, zu plotten. Führe dazu einfach den nächsten Codeblock aus:"
   ]
  },
  {
   "cell_type": "code",
   "execution_count": null,
   "metadata": {},
   "outputs": [],
   "source": [
    "plotte_daten(test_daten)"
   ]
  },
  {
   "cell_type": "markdown",
   "metadata": {},
   "source": [
    "Du kannst die Werte beliebig ändern und andere Listen erstellen und diese Werte plotten. Wie wäre es zum Beispiel mit einer Liste von Zufallszahlen?\n",
    "\n",
    "**Aufgabe:** Nimm einen Würfel, würfel damit 10 mal und schreibe die Zahlen in eine Liste. Du kannst die Liste zum Beispiel `zufallszahlen` nennen. Das sieht dann so aus: `zufallszahlen = [ ... ]`. Verwende dann die vorher erstellte Funktion `plotte_daten()` mit dem Argument `zufallszahlen` um die Zahlen zu plotten. Wenn du keinen Würfel da haben solltest kannst du diesen verwenden: https://wuerfel.virtuworld.net/"
   ]
  },
  {
   "cell_type": "code",
   "execution_count": null,
   "metadata": {},
   "outputs": [],
   "source": [
    "# Schreibe hier deinen Code "
   ]
  },
  {
   "cell_type": "markdown",
   "metadata": {},
   "source": [
    "#### 6. Mache deinen Plot anschaulicher ✨\n",
    "\n",
    "Du kannst ganz vieles an deinem Plot ändern um ihn schöner zu machen. Wichtig dabei ist nur dass die Aussage nicht verfälscht wird und immernoch das wesentliche gut zu erkennen ist. Zum Beispiel kannst du die Farben in deinem Plot beliebig ändern. Es ist sinnvoll Farben zu wählen die für den Leser intuitiv sind. Zum Beispiel <span style=\"color:blue\">blau</span> für die <span style=\"color:blue\">Luftfeuchtigkeit</span>, oder eine warme Farbe wie <span style=\"color:red\">rot</span> oder <span style=\"color:orange\">orange</span> für die <span style=\"color:orange\">Temperatur</span>. \n",
    "\n",
    "Es ist auch sinnvoll in Betracht zu ziehen die Farben so zu wählen, dass auch Menschen mit einer Rot-Grün Schwäche (Dichromasie) den Plot gut verstehen können (also entweder Rot oder Grün, aber nicht beides verwenden). Fast 8% der Männer haben eine Rot-Grün Schwäche, das ist ganz schön viel! Es lohnt sich also darauf zu achten. Frauen sind viel seltener betroffen ;)  \n",
    "Wenn du dich für das Thema interessiest findest du bei Wikipedia (https://www.wikiwand.com/de/Farbenblindheit) mehr über Farbenblindheit bzw. Farbenfehlsichtigkeit. \n",
    "\n",
    "Du kannst die Farbe deines Plottes festlegen indem du in die `plot()` Funktion als optionales Argument die Farbe mit `color=' ... '` angibst. Versuch es doch mal mit `color='orchid'`, oder `color='chocolate'`, oder suche dir eine Farbe aus der unten stehenden Tabelle aus. Im folgenden Codeblock findest du ein Beispiel für einen Plot von zwei Dreiecken, dort kannst du ganz einfach die Farben ändern. \n",
    "\n",
    "![alt text](farben_matplotlib.png)"
   ]
  },
  {
   "cell_type": "code",
   "execution_count": null,
   "metadata": {},
   "outputs": [],
   "source": [
    "dreieck1 = [1,2,3,4,5,4,3,2,1]\n",
    "dreieck2 = [1,1,1,2,3,2,1,1,1]\n",
    "\n",
    "plt.plot(dreieck1, color='teal')\n",
    "plt.plot(dreieck2, color='coral')"
   ]
  },
  {
   "cell_type": "markdown",
   "metadata": {},
   "source": [
    "Nicht nur die Farbe kannst du ändern, sonder auch die Dicke `lw` und den Stil `ls` der Linien. Hier ist wieder ein Beispiel. Du kannst andere Zahlen für die Dicke angeben und ausprobieren wie der Plot aussieht. Für den Stil gibt es auch mehrere Möglichkeiten wie `-.` oder `:`"
   ]
  },
  {
   "cell_type": "code",
   "execution_count": null,
   "metadata": {},
   "outputs": [],
   "source": [
    "dreieck1 = [1,2,3,4,5,4,3,2,1]\n",
    "dreieck2 = [1,1,1,2,3,2,1,1,1]\n",
    "\n",
    "plt.plot(dreieck1, color='teal', lw=2)\n",
    "plt.plot(dreieck2, color='coral', lw=0.8, ls='--')"
   ]
  },
  {
   "cell_type": "markdown",
   "metadata": {},
   "source": [
    "Die verschiedenen Farben und Stiele machen, dass Betrachter die Linien gut unterscheiden können. Es fehlt aber noch eine Legende die sagt was die Linien bedeuten. Um eine Legende zu erstellen, musst du der `plot()` Funktion als zusätzliches Argument ein Label zuweißen mit `label=' ... '`. Dann, nach der `plot()`-Funktion kannst du die Legende mit `plt.legend()` plotten:"
   ]
  },
  {
   "cell_type": "code",
   "execution_count": null,
   "metadata": {},
   "outputs": [],
   "source": [
    "dreieck1 = [1,2,3,4,5,4,3,2,1]\n",
    "dreieck2 = [1,1,1,2,3,2,1,1,1]\n",
    "\n",
    "plt.plot(dreieck1, color='teal', lw=2, label='Dreieck Nr. 1')\n",
    "plt.plot(dreieck2, color='coral', lw=0.8, ls='--', label='Dreieck Nr. 2')\n",
    "plt.legend()"
   ]
  },
  {
   "cell_type": "markdown",
   "metadata": {},
   "source": [
    "#### 7. X und Y Werte plotten\n",
    "\n",
    "Bis jetzt haben wir immer nur eine Liste an Daten gehabt und diese geplottet. Doch manchmal muss man einem Wert *gegen* einen anderen Wert plotten. Häufig wird ein Wert gegen die Zeit geplottet um die zeitliche Änderung zu analysieren. Zum Beispiel wie sich die Temperatur im Laufe eines Tages ändert, oder die Körpergröße eines Menschen abhängig vom Alter. Hier ist ein Beispiel-Datensatz für die Körpergröße eines Mädchens als y-Werte und das Alter als x-Werte:\n",
    "\n",
    "`größe = [51.32, 75.09, 86.73, 95.35, 103.51, 110.82, 117.59, 123.65, 129.49, 135.28, 141.18, 147.65, 154.31, 159.53, 162.74, 164.48, 165.39, 165.54, 165.77]`\n",
    "\n",
    "`alter = [1, 2, 3, 4, 5, 6, 7, 8, 9, 10, 11, 12, 13, 14, 15, 16, 17, 18]`\n",
    "\n",
    "<div class=\"csl-entry\">Die hier angegebenen Werte sind von  <i>Koch-Institut, R. (2011).  Kapitel Körperlänge/Körpergröße aus Referenzperzentile für anthropometrische Maßzahlen</i>.</div>\n",
    "\n",
    "\n",
    "Wenn wir jetzt die Körpergröße gegen das Alter plotten wollen, können wir in unserer `plot()` Funktion einfach als erstes Argument die x-Werte, also hier das Alter und als zweites Argument die y-Werte, hier die Größe, angeben. \n",
    "Das sieht dann so aus:"
   ]
  },
  {
   "cell_type": "code",
   "execution_count": null,
   "metadata": {},
   "outputs": [],
   "source": [
    "größe_mädchen = [51.32, 75.09, 86.73, 95.35, 103.51, 110.82, 117.59, 123.65, 129.49, 135.28, 141.18, 147.65, 154.31, 159.53, 162.74, 164.48, 165.39, 165.54, 165.77]\n",
    "alter = [0, 1, 2, 3, 4, 5, 6, 7, 8, 9, 10, 11, 12, 13, 14, 15, 16, 17, 18]\n",
    "\n",
    "plt.plot(alter, größe_mädchen)"
   ]
  },
  {
   "cell_type": "markdown",
   "metadata": {},
   "source": [
    "Die Körpergröße von Jungen verhält sich im Mittel ein wenig anders als die von Mädchen. Daher wollen wir als nächstes die Körpergröße der Jungen plotten.\n",
    "\n",
    "`größe_jungs = [52.58, 76.63, 88.21, 97.14, 104.56, 111.23, 117.78, 124.51, 130.79, 136.35, 141.55, 146.68, 152.22, 159.13, 166.93, 173.12, 176.66, 178.24,179.04]`"
   ]
  },
  {
   "cell_type": "code",
   "execution_count": null,
   "metadata": {},
   "outputs": [],
   "source": [
    "größe_jungen = [52.58, 76.63, 88.21, 97.14, 104.56, 111.23, 117.78, 124.51, 130.79, 136.35, 141.55, 146.68, 152.22, 159.13, 166.93, 173.12, 176.66, 178.24,179.04]\n",
    "alter = [0, 1, 2, 3, 4, 5, 6, 7, 8, 9, 10, 11, 12, 13, 14, 15, 16, 17, 18]\n",
    "\n",
    "plt.plot(alter, größe_jungen)"
   ]
  },
  {
   "cell_type": "markdown",
   "metadata": {},
   "source": [
    "Das sieht jetzt erst mal recht ähnlch aus. Um die beiden Kurven besser vergleichen zu können sollten wir sie in den selben Plot bringen. Wie du schon gelernt hast kannst du die Farben beliebig ändern damit die Kurven gut unterscheidbar sind. Auch die Legende und die Beschriftung der Achsen sollte nicht fehlen. \n",
    "\n",
    "**Aufgabe:** Plotte die Körpergröße von Mädchen und Jungen in Abhängigkeit vom Alter. Verwende verscheidene Farben für die Kurven und füge einen Titel, eine Achsenbschriftung und eine Legende hinzu.\n"
   ]
  },
  {
   "cell_type": "code",
   "execution_count": null,
   "metadata": {},
   "outputs": [],
   "source": [
    "# Schreibe hier deinen Code"
   ]
  },
  {
   "cell_type": "code",
   "execution_count": null,
   "metadata": {},
   "outputs": [],
   "source": [
    "### Lösung:\n",
    "\n",
    "größe_mädchen = [51.32, 75.09, 86.73, 95.35, 103.51, 110.82, 117.59, 123.65, 129.49, 135.28, 141.18, 147.65, 154.31, 159.53, 162.74, 164.48, 165.39, 165.54, 165.77]\n",
    "größe_jungs = [52.58, 76.63, 88.21, 97.14, 104.56, 111.23, 117.78, 124.51, 130.79, 136.35, 141.55, 146.68, 152.22, 159.13, 166.93, 173.12, 176.66, 178.24,179.04]\n",
    "alter = [0, 1, 2, 3, 4, 5, 6, 7, 8, 9, 10, 11, 12, 13, 14, 15, 16, 17, 18]\n",
    "\n",
    "plt.plot(alter, größe_mädchen, color='coral', label='Mädchen')\n",
    "plt.plot(alter, größe_jungs, color='teal', label='Jungen')\n",
    "plt.legend()\n",
    "plt.title('Körpergröße in cm in Abhängigkeit vom Alter bei Mädchen und Jungen')\n",
    "plt.xlabel('Alter in Jahren')\n",
    "plt.ylabel('Körpergröße in cm')"
   ]
  },
  {
   "cell_type": "markdown",
   "metadata": {},
   "source": [
    "Wo findest du dich in der Kurve oben? Du kannst dein Alter und dine Größe als einzelen Datenpunkt über die Kurve plotten. Änder dafür die Zahlen nach `mein_alter=` und `meine_größe=` entsprechend ab. Führe dann den Codeblock aus."
   ]
  },
  {
   "cell_type": "code",
   "execution_count": null,
   "metadata": {},
   "outputs": [],
   "source": [
    "größe_mädchen = [51.32, 75.09, 86.73, 95.35, 103.51, 110.82, 117.59, 123.65, 129.49, 135.28, 141.18, 147.65, 154.31, 159.53, 162.74, 164.48, 165.39, 165.54, 165.77]\n",
    "größe_jungs = [52.58, 76.63, 88.21, 97.14, 104.56, 111.23, 117.78, 124.51, 130.79, 136.35, 141.55, 146.68, 152.22, 159.13, 166.93, 173.12, 176.66, 178.24,179.04]\n",
    "alter = [0, 1, 2, 3, 4, 5, 6, 7, 8, 9, 10, 11, 12, 13, 14, 15, 16, 17, 18]\n",
    "\n",
    "mein_alter = 17\n",
    "meine_größe = 160\n",
    "\n",
    "plt.plot(alter, größe_mädchen, color='coral', label='Mädchen')\n",
    "plt.plot(alter, größe_jungs, color='teal', label='Jungen')\n",
    "plt.title('Körpergröße in cm in Abhängigkeit vom Alter bei Mädchen und Jungen')\n",
    "plt.xlabel('Alter in Jahren')\n",
    "plt.ylabel('Körpergröße in cm')\n",
    "plt.scatter(mein_alter, meine_größe, marker='$\\u2665$', color='crimson', label='Meine Größe')\n",
    "plt.legend()"
   ]
  },
  {
   "cell_type": "markdown",
   "metadata": {},
   "source": [
    "**Geschafft!**\n",
    "\n",
    "Du hast die Grundlagen gelernt die du zum erstellen eines Plots brauchst. Du weißt jetzt wie man bibliotheken importiert:<br>\n",
    "`import name_der_bibliothek as abkürzung`\n",
    "\n",
    "Du kannst eine Liste an Daten erstellen:<br>\n",
    "`name_der_liste = [wert1, wert2, wert3, ...]`\n",
    "\n",
    "Du kannst Daten plotten:<br>\n",
    "`plt.plot(daten)`\n",
    "\n",
    "Du kannst den Titel und die Achsenbeschriftung ändern:<br>\n",
    "`plt.title('name_des_titles')`<br>\n",
    "`plt.xlabel('name_der_x_achse')`<br>\n",
    "`plt.ylabel('name_der_y_achse')`<br>\n",
    "\n",
    "Du kannst Funktionen schreiben und wieder verwenden:<br>\n",
    "`def funktionsname(argument1, argument2, ...):`\n",
    "\n",
    "Du kannst die Farben, die Dicke und den Stil der Linien ändern und ein Label hinzufügen:<br>\n",
    "`plt.plot(daten, color='farbe', lw=zahl, ls='stil_der_linie', legend='name_der_legende')`\n",
    "\n",
    "Du kannst die Legende plotten:<br>\n",
    "`plt.legend()`\n",
    "\n",
    "Und du kannst zwei Werte gegeneinander plotten:<br>\n",
    "`plt.plot(x_werte, y_werte)`"
   ]
  },
  {
   "cell_type": "markdown",
   "metadata": {},
   "source": [
    "#### Entdecke mehr\n",
    "\n",
    "Es gibt noch viele Möglichkeiten die matplotlib zu bieten hat und auch noch viele andere Bibliotheken die sehr nützlich sind. Hier ist noch ein Beispiel für einen Plot. Du kannst ihn einfach ausführen und etwas herum spielen :) Viel Spaß!"
   ]
  },
  {
   "cell_type": "code",
   "execution_count": null,
   "metadata": {},
   "outputs": [],
   "source": [
    "import numpy as np\n",
    "import matplotlib.pyplot as plt\n",
    "  \n",
    "t=np.linspace(0,1,100)\n",
    "x=(-3*t**2 + 2*t+1)*np.abs(np.sin(t))*1.2\n",
    "y=(-3*t**2 + 2*t+1)*np.abs(np.cos(t))\n",
    "  \n",
    "plt.fill_between(x, y, color='pink')\n",
    "plt.fill_between(-x, y, color='pink')\n",
    "  \n",
    "plt.plot(x, np.zeros_like(x), color='white', lw=2)\n",
    "plt.plot(-x, np.zeros_like(x), color='white', lw=2)\n",
    "  \n",
    "plt.title('I love Python', fontsize=38, y=0.5, color='crimson')\n",
    "plt.plot(-x,y, color='lightseagreen', lw=4)\n",
    "plt.plot(x,y, color='lightseagreen', lw=4)\n",
    "plt.axis('off')\n",
    "  \n",
    "plt.gca().set_aspect('equal')\n",
    "plt.show()"
   ]
  },
  {
   "cell_type": "code",
   "execution_count": null,
   "metadata": {},
   "outputs": [],
   "source": []
  }
 ],
 "metadata": {
  "kernelspec": {
   "display_name": "Python 3 (ipykernel)",
   "language": "python",
   "name": "python3"
  },
  "language_info": {
   "codemirror_mode": {
    "name": "ipython",
    "version": 3
   },
   "file_extension": ".py",
   "mimetype": "text/x-python",
   "name": "python",
   "nbconvert_exporter": "python",
   "pygments_lexer": "ipython3",
   "version": "3.10.8"
  }
 },
 "nbformat": 4,
 "nbformat_minor": 4
}
